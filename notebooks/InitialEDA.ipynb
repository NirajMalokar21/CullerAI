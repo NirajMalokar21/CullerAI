{
 "cells": [
  {
   "cell_type": "code",
   "execution_count": 1,
   "id": "4af8fa09-6335-4983-ab9e-e7d7f6cf669a",
   "metadata": {},
   "outputs": [],
   "source": [
    "import pandas as pd\n",
    "import cv2\n",
    "import os"
   ]
  },
  {
   "cell_type": "code",
   "execution_count": 2,
   "id": "5a39688b-7482-4585-b347-6c8febfba6af",
   "metadata": {},
   "outputs": [
    {
     "name": "stdout",
     "output_type": "stream",
     "text": [
      "       image_id     mean      std\n",
      "0  I01_01_1.bmp  5.51429  0.13013\n",
      "1  i01_01_2.bmp  5.56757  0.16008\n",
      "2  i01_01_3.bmp  4.94444  0.15186\n",
      "3  i01_01_4.bmp  4.37838  0.11046\n",
      "4  i01_01_5.bmp  3.86486  0.10229\n"
     ]
    }
   ],
   "source": [
    "mos_df = pd.read_csv(\"../data/MOS.csv\") \n",
    "print(mos_df.head())"
   ]
  },
  {
   "cell_type": "markdown",
   "id": "efe5b0c7-7bbf-4dcd-b62e-7e08be3a67c4",
   "metadata": {},
   "source": [
    "---\n",
    "#### imread stores image as a 3D array [height, width, channels]\n",
    "#### cvtColor converts the color space from BGR to RBG \n",
    "---"
   ]
  },
  {
   "cell_type": "code",
   "execution_count": 3,
   "id": "1082d42d-4f2c-4159-83fa-93e90f33035a",
   "metadata": {},
   "outputs": [
    {
     "name": "stdout",
     "output_type": "stream",
     "text": [
      "../data/distorted_images\\I01_01_1.bmp\n"
     ]
    }
   ],
   "source": [
    "img_path = os.path.join(\"../data/distorted_images\", mos_df['image_id'][0])\n",
    "img = cv2.imread(img_path)\n",
    "print(img_path)\n",
    "img = cv2.cvtColor(img, cv2.COLOR_BGR2RGB)"
   ]
  },
  {
   "cell_type": "markdown",
   "id": "c1a72f30-1a1a-4cd0-b932-ea7aa4863fca",
   "metadata": {},
   "source": [
    "---\n",
    "\n",
    "#### Takes in an image as a parameter \n",
    "#### Converts it to grayscale \n",
    "#### Laplacian takes the second derivative of pixel intensities and then we calculate variance to decide if the image is sharp \n",
    "#### Brightness is determined by the average pixel intensity of the grayscale image \n",
    "#### Noise is determined by the average standard deviation of the grayscale image \n",
    "#### color_var = np.std(img, axis=(0,1)).mean() calculates the standard deviation across each color channel and then takes the mean to see if it is monochrome or saturated "
   ]
  },
  {
   "cell_type": "code",
   "execution_count": 4,
   "id": "2517d088-6118-4b12-a012-c6aff321d5af",
   "metadata": {},
   "outputs": [],
   "source": [
    "import numpy as np\n",
    "\n",
    "def extract_features(img):\n",
    "    gray = cv2.cvtColor(img, cv2.COLOR_RGB2GRAY)\n",
    "    sharpness = cv2.Laplacian(gray, cv2.CV_64F).var()\n",
    "    brightness = np.mean(gray)\n",
    "    noise = np.std(gray)\n",
    "    color_var = np.std(img, axis=(0,1)).mean()\n",
    "    return [sharpness, brightness, noise, color_var]\n"
   ]
  },
  {
   "cell_type": "markdown",
   "id": "3c5cf40d-78d0-4ce7-b1b3-a61f77e39db7",
   "metadata": {},
   "source": [
    "--- \n",
    "#### Features store all the feature data and labels store the mean opinion score for the image \n",
    "#### This function loads each image in the distorted data folder, converts it to RGB, extracts its features, and appends the mean optimised score for the image to the row"
   ]
  },
  {
   "cell_type": "code",
   "execution_count": 5,
   "id": "cb47b657-74e4-4150-aa64-8a915055d3e9",
   "metadata": {},
   "outputs": [],
   "source": [
    "features = []\n",
    "labels = []\n",
    "\n",
    "for idx, row in mos_df.iterrows():\n",
    "    img_path = os.path.join(\"../data/distorted_images\", row['image_id'])\n",
    "    img = cv2.imread(img_path)\n",
    "    img = cv2.cvtColor(img, cv2.COLOR_BGR2RGB)\n",
    "    features.append(extract_features(img))\n",
    "    labels.append(row['mean'])\n",
    "\n",
    "import pandas as pd\n",
    "features_df = pd.DataFrame(features, columns=['sharpness','brightness','noise','color_var'])\n",
    "features_df['mean'] = labels\n"
   ]
  },
  {
   "cell_type": "code",
   "execution_count": 6,
   "id": "60f4221d-50d9-4b8f-a975-9e22b03a58e9",
   "metadata": {},
   "outputs": [
    {
     "data": {
      "text/html": [
       "<div>\n",
       "<style scoped>\n",
       "    .dataframe tbody tr th:only-of-type {\n",
       "        vertical-align: middle;\n",
       "    }\n",
       "\n",
       "    .dataframe tbody tr th {\n",
       "        vertical-align: top;\n",
       "    }\n",
       "\n",
       "    .dataframe thead th {\n",
       "        text-align: right;\n",
       "    }\n",
       "</style>\n",
       "<table border=\"1\" class=\"dataframe\">\n",
       "  <thead>\n",
       "    <tr style=\"text-align: right;\">\n",
       "      <th></th>\n",
       "      <th>sharpness</th>\n",
       "      <th>brightness</th>\n",
       "      <th>noise</th>\n",
       "      <th>color_var</th>\n",
       "      <th>mean</th>\n",
       "    </tr>\n",
       "  </thead>\n",
       "  <tbody>\n",
       "    <tr>\n",
       "      <th>count</th>\n",
       "      <td>3000.000000</td>\n",
       "      <td>3000.000000</td>\n",
       "      <td>3000.000000</td>\n",
       "      <td>3000.000000</td>\n",
       "      <td>3000.000000</td>\n",
       "    </tr>\n",
       "    <tr>\n",
       "      <th>mean</th>\n",
       "      <td>3090.827752</td>\n",
       "      <td>110.978255</td>\n",
       "      <td>48.926543</td>\n",
       "      <td>50.499069</td>\n",
       "      <td>4.474657</td>\n",
       "    </tr>\n",
       "    <tr>\n",
       "      <th>std</th>\n",
       "      <td>5174.869286</td>\n",
       "      <td>25.223155</td>\n",
       "      <td>12.731646</td>\n",
       "      <td>12.810518</td>\n",
       "      <td>1.239880</td>\n",
       "    </tr>\n",
       "    <tr>\n",
       "      <th>min</th>\n",
       "      <td>1.146698</td>\n",
       "      <td>37.158381</td>\n",
       "      <td>12.874847</td>\n",
       "      <td>13.868108</td>\n",
       "      <td>0.242420</td>\n",
       "    </tr>\n",
       "    <tr>\n",
       "      <th>25%</th>\n",
       "      <td>673.165757</td>\n",
       "      <td>91.945970</td>\n",
       "      <td>40.082295</td>\n",
       "      <td>42.334497</td>\n",
       "      <td>3.611110</td>\n",
       "    </tr>\n",
       "    <tr>\n",
       "      <th>50%</th>\n",
       "      <td>1578.196417</td>\n",
       "      <td>107.922424</td>\n",
       "      <td>47.560431</td>\n",
       "      <td>49.049925</td>\n",
       "      <td>4.600000</td>\n",
       "    </tr>\n",
       "    <tr>\n",
       "      <th>75%</th>\n",
       "      <td>3014.812871</td>\n",
       "      <td>123.465853</td>\n",
       "      <td>53.874086</td>\n",
       "      <td>55.619075</td>\n",
       "      <td>5.526320</td>\n",
       "    </tr>\n",
       "    <tr>\n",
       "      <th>max</th>\n",
       "      <td>39899.549265</td>\n",
       "      <td>192.376226</td>\n",
       "      <td>103.901088</td>\n",
       "      <td>105.958672</td>\n",
       "      <td>7.214290</td>\n",
       "    </tr>\n",
       "  </tbody>\n",
       "</table>\n",
       "</div>"
      ],
      "text/plain": [
       "          sharpness   brightness        noise    color_var         mean\n",
       "count   3000.000000  3000.000000  3000.000000  3000.000000  3000.000000\n",
       "mean    3090.827752   110.978255    48.926543    50.499069     4.474657\n",
       "std     5174.869286    25.223155    12.731646    12.810518     1.239880\n",
       "min        1.146698    37.158381    12.874847    13.868108     0.242420\n",
       "25%      673.165757    91.945970    40.082295    42.334497     3.611110\n",
       "50%     1578.196417   107.922424    47.560431    49.049925     4.600000\n",
       "75%     3014.812871   123.465853    53.874086    55.619075     5.526320\n",
       "max    39899.549265   192.376226   103.901088   105.958672     7.214290"
      ]
     },
     "execution_count": 6,
     "metadata": {},
     "output_type": "execute_result"
    }
   ],
   "source": [
    "features_df.describe()"
   ]
  },
  {
   "cell_type": "code",
   "execution_count": 14,
   "id": "8fa90a22-311f-4aba-a831-f64bbe12c986",
   "metadata": {},
   "outputs": [],
   "source": [
    "param_dist = {\n",
    "    'n_estimators': [100, 200, 300, 400, 500],       # number of trees\n",
    "    'max_depth': [None, 10, 20, 30, 40],            # maximum depth\n",
    "    'min_samples_split': [2, 5, 10, 15],            # min samples to split a node\n",
    "    'min_samples_leaf': [1, 2, 4, 6],               # min samples at leaf node\n",
    "    'max_features': ['sqrt', 'log2', None]          # number of features at each split\n",
    "}"
   ]
  },
  {
   "cell_type": "code",
   "execution_count": 15,
   "id": "b0e77ca5-083d-4a55-b2c0-cfe17e51e00f",
   "metadata": {},
   "outputs": [],
   "source": [
    "from sklearn.model_selection import RandomizedSearchCV\n",
    "rf = RandomForestRegressor(random_state=42)\n",
    "\n",
    "random_search = RandomizedSearchCV(\n",
    "    estimator=rf,\n",
    "    param_distributions=param_dist,\n",
    "    n_iter=50,                # test 50 random combinations\n",
    "    cv=5,                     # 5-fold cross-validation\n",
    "    scoring='neg_mean_squared_error',\n",
    "    n_jobs=-1,                # use all CPU cores\n",
    "    verbose=2,\n",
    "    random_state=42\n",
    ")"
   ]
  },
  {
   "cell_type": "code",
   "execution_count": 16,
   "id": "e8e9651d-2a65-443f-b4b0-61ab1f205748",
   "metadata": {},
   "outputs": [
    {
     "name": "stdout",
     "output_type": "stream",
     "text": [
      "Fitting 5 folds for each of 50 candidates, totalling 250 fits\n",
      "Best parameters: {'n_estimators': 300, 'min_samples_split': 5, 'min_samples_leaf': 1, 'max_features': 'sqrt', 'max_depth': 30}\n"
     ]
    }
   ],
   "source": [
    "random_search.fit(X_train, y_train)\n",
    "\n",
    "# Best hyperparameters\n",
    "print(\"Best parameters:\", random_search.best_params_)"
   ]
  },
  {
   "cell_type": "code",
   "execution_count": 18,
   "id": "fbb6d281-3068-4be9-9ff6-38686a27874e",
   "metadata": {},
   "outputs": [
    {
     "name": "stdout",
     "output_type": "stream",
     "text": [
      "Test MSE: 0.9186281973897731\n"
     ]
    }
   ],
   "source": [
    "from sklearn.model_selection import train_test_split\n",
    "from sklearn.ensemble import RandomForestRegressor\n",
    "from sklearn.metrics import mean_squared_error\n",
    "\n",
    "X = features_df.drop(columns=['mean'])\n",
    "y = features_df['mean']\n",
    "\n",
    "X_train, X_test, y_train, y_test = train_test_split(X, y, test_size=0.2, random_state=42)\n",
    "\n",
    "model = RandomForestRegressor(\n",
    "    n_estimators=300,\n",
    "    min_samples_split=5,\n",
    "    min_samples_leaf=1,\n",
    "    max_features='sqrt', \n",
    "    max_depth=30,\n",
    "    random_state=42)\n",
    "model.fit(X_train, y_train)\n",
    "\n",
    "y_pred = model.predict(X_test)\n",
    "mse = mean_squared_error(y_test, y_pred)\n",
    "print(\"Test MSE:\", mse)\n"
   ]
  },
  {
   "cell_type": "code",
   "execution_count": 9,
   "id": "a409285a-2875-4e5f-9bd0-9b9955e439ad",
   "metadata": {},
   "outputs": [
    {
     "name": "stdout",
     "output_type": "stream",
     "text": [
      "Baseline MSE: 1.5367897131527357\n",
      "Baseline RMSE: 1.2396732283762264\n"
     ]
    }
   ],
   "source": [
    "import numpy as np\n",
    "\n",
    "# Baseline MSE: predict the mean MOS for all images\n",
    "baseline_mse = np.mean((features_df['mean'] - features_df['mean'].mean())**2)\n",
    "baseline_rmse = np.sqrt(baseline_mse)\n",
    "\n",
    "print(\"Baseline MSE:\", baseline_mse)\n",
    "print(\"Baseline RMSE:\", baseline_rmse)"
   ]
  },
  {
   "cell_type": "code",
   "execution_count": null,
   "id": "a7cdfcc5-3255-423b-8e1d-13e852db91e5",
   "metadata": {},
   "outputs": [],
   "source": []
  }
 ],
 "metadata": {
  "kernelspec": {
   "display_name": "Python (photo_env)",
   "language": "python",
   "name": "cull_env"
  },
  "language_info": {
   "codemirror_mode": {
    "name": "ipython",
    "version": 3
   },
   "file_extension": ".py",
   "mimetype": "text/x-python",
   "name": "python",
   "nbconvert_exporter": "python",
   "pygments_lexer": "ipython3",
   "version": "3.12.1"
  }
 },
 "nbformat": 4,
 "nbformat_minor": 5
}
